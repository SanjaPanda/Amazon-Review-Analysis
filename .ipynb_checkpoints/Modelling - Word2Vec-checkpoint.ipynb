{
 "cells": [
  {
   "cell_type": "code",
   "execution_count": 1,
   "metadata": {
    "scrolled": true
   },
   "outputs": [],
   "source": [
    "import pandas as pd\n",
    "import string\n",
    "from nltk.tokenize import word_tokenize,sent_tokenize\n",
    "from nltk.corpus import stopwords\n",
    "from nltk.stem import WordNetLemmatizer\n",
    "\n",
    "import pattern\n",
    "from pattern.en import lemma\n",
    "\n",
    "from gensim.models import Word2Vec\n",
    "\n",
    "import numpy as np\n",
    "import re\n",
    "\n",
    "from sklearn.model_selection import KFold, cross_val_score, train_test_split\n",
    "import matplotlib.pyplot as plt"
   ]
  },
  {
   "cell_type": "code",
   "execution_count": 2,
   "metadata": {
    "scrolled": true
   },
   "outputs": [],
   "source": [
    "review_df = pd.read_csv('Review_Data.csv')\n",
    "stop_words = set(stopwords.words('english'))"
   ]
  },
  {
   "cell_type": "code",
   "execution_count": 3,
   "metadata": {},
   "outputs": [
    {
     "data": {
      "text/html": [
       "<div>\n",
       "<style scoped>\n",
       "    .dataframe tbody tr th:only-of-type {\n",
       "        vertical-align: middle;\n",
       "    }\n",
       "\n",
       "    .dataframe tbody tr th {\n",
       "        vertical-align: top;\n",
       "    }\n",
       "\n",
       "    .dataframe thead th {\n",
       "        text-align: right;\n",
       "    }\n",
       "</style>\n",
       "<table border=\"1\" class=\"dataframe\">\n",
       "  <thead>\n",
       "    <tr style=\"text-align: right;\">\n",
       "      <th></th>\n",
       "      <th>asin</th>\n",
       "      <th>title</th>\n",
       "      <th>review</th>\n",
       "      <th>star</th>\n",
       "    </tr>\n",
       "  </thead>\n",
       "  <tbody>\n",
       "    <tr>\n",
       "      <th>0</th>\n",
       "      <td>B0855T8JT2</td>\n",
       "      <td>\\n\\n\\n\\n\\n\\n\\n\\n  \\n  \\n    Poor call quality ...</td>\n",
       "      <td>\\n\\n\\n\\n\\n\\n\\n\\n\\n\\n  \\n  \\n    \\n  Got these ...</td>\n",
       "      <td>3.0</td>\n",
       "    </tr>\n",
       "    <tr>\n",
       "      <th>1</th>\n",
       "      <td>B0855T8JT2</td>\n",
       "      <td>\\n\\n\\n\\n\\n\\n\\n\\n  \\n  \\n    Sound Output\\n  \\n</td>\n",
       "      <td>\\n\\n\\n\\n\\n\\n\\n\\n\\n\\n  \\n  \\n    \\n  Music qual...</td>\n",
       "      <td>5.0</td>\n",
       "    </tr>\n",
       "    <tr>\n",
       "      <th>2</th>\n",
       "      <td>B0855T8JT2</td>\n",
       "      <td>\\n\\n\\n\\n\\n\\n\\n\\n  \\n  \\n    Wonderful\\n  \\n</td>\n",
       "      <td>\\n\\n\\n\\n\\n\\n\\n\\n\\n\\n  \\n  \\n    \\n  I was a bi...</td>\n",
       "      <td>5.0</td>\n",
       "    </tr>\n",
       "    <tr>\n",
       "      <th>3</th>\n",
       "      <td>B0855T8JT2</td>\n",
       "      <td>\\n\\n\\n\\n\\n\\n\\n\\n  \\n  \\n    Hi\\n  \\n</td>\n",
       "      <td>\\n\\n\\n\\n\\n\\n\\n\\n\\n\\n  \\n  \\n    \\n  Hi\\n\\n  \\n</td>\n",
       "      <td>4.0</td>\n",
       "    </tr>\n",
       "    <tr>\n",
       "      <th>4</th>\n",
       "      <td>B0855T8JT2</td>\n",
       "      <td>\\n\\n\\n\\n\\n\\n\\n\\n  \\n  \\n    Best earbuds for 5...</td>\n",
       "      <td>\\n\\n\\n\\n\\n\\n\\n\\n\\n\\n  \\n  \\n    \\n  The produc...</td>\n",
       "      <td>5.0</td>\n",
       "    </tr>\n",
       "  </tbody>\n",
       "</table>\n",
       "</div>"
      ],
      "text/plain": [
       "         asin                                              title  \\\n",
       "0  B0855T8JT2  \\n\\n\\n\\n\\n\\n\\n\\n  \\n  \\n    Poor call quality ...   \n",
       "1  B0855T8JT2     \\n\\n\\n\\n\\n\\n\\n\\n  \\n  \\n    Sound Output\\n  \\n   \n",
       "2  B0855T8JT2        \\n\\n\\n\\n\\n\\n\\n\\n  \\n  \\n    Wonderful\\n  \\n   \n",
       "3  B0855T8JT2               \\n\\n\\n\\n\\n\\n\\n\\n  \\n  \\n    Hi\\n  \\n   \n",
       "4  B0855T8JT2  \\n\\n\\n\\n\\n\\n\\n\\n  \\n  \\n    Best earbuds for 5...   \n",
       "\n",
       "                                              review  star  \n",
       "0  \\n\\n\\n\\n\\n\\n\\n\\n\\n\\n  \\n  \\n    \\n  Got these ...   3.0  \n",
       "1  \\n\\n\\n\\n\\n\\n\\n\\n\\n\\n  \\n  \\n    \\n  Music qual...   5.0  \n",
       "2  \\n\\n\\n\\n\\n\\n\\n\\n\\n\\n  \\n  \\n    \\n  I was a bi...   5.0  \n",
       "3     \\n\\n\\n\\n\\n\\n\\n\\n\\n\\n  \\n  \\n    \\n  Hi\\n\\n  \\n   4.0  \n",
       "4  \\n\\n\\n\\n\\n\\n\\n\\n\\n\\n  \\n  \\n    \\n  The produc...   5.0  "
      ]
     },
     "execution_count": 3,
     "metadata": {},
     "output_type": "execute_result"
    }
   ],
   "source": [
    "review_df.head()"
   ]
  },
  {
   "cell_type": "code",
   "execution_count": 4,
   "metadata": {},
   "outputs": [
    {
     "data": {
      "text/html": [
       "<div>\n",
       "<style scoped>\n",
       "    .dataframe tbody tr th:only-of-type {\n",
       "        vertical-align: middle;\n",
       "    }\n",
       "\n",
       "    .dataframe tbody tr th {\n",
       "        vertical-align: top;\n",
       "    }\n",
       "\n",
       "    .dataframe thead th {\n",
       "        text-align: right;\n",
       "    }\n",
       "</style>\n",
       "<table border=\"1\" class=\"dataframe\">\n",
       "  <thead>\n",
       "    <tr style=\"text-align: right;\">\n",
       "      <th></th>\n",
       "      <th>asin</th>\n",
       "      <th>star</th>\n",
       "      <th>combined</th>\n",
       "    </tr>\n",
       "  </thead>\n",
       "  <tbody>\n",
       "    <tr>\n",
       "      <th>0</th>\n",
       "      <td>B0855T8JT2</td>\n",
       "      <td>3.0</td>\n",
       "      <td>\\n\\n\\n\\n\\n\\n\\n\\n  \\n  \\n    Poor call quality ...</td>\n",
       "    </tr>\n",
       "    <tr>\n",
       "      <th>1</th>\n",
       "      <td>B0855T8JT2</td>\n",
       "      <td>5.0</td>\n",
       "      <td>\\n\\n\\n\\n\\n\\n\\n\\n  \\n  \\n    Sound Output\\n  \\n...</td>\n",
       "    </tr>\n",
       "    <tr>\n",
       "      <th>2</th>\n",
       "      <td>B0855T8JT2</td>\n",
       "      <td>5.0</td>\n",
       "      <td>\\n\\n\\n\\n\\n\\n\\n\\n  \\n  \\n    Wonderful\\n  \\n\\n\\...</td>\n",
       "    </tr>\n",
       "    <tr>\n",
       "      <th>3</th>\n",
       "      <td>B0855T8JT2</td>\n",
       "      <td>4.0</td>\n",
       "      <td>\\n\\n\\n\\n\\n\\n\\n\\n  \\n  \\n    Hi\\n  \\n\\n\\n\\n\\n\\n...</td>\n",
       "    </tr>\n",
       "    <tr>\n",
       "      <th>4</th>\n",
       "      <td>B0855T8JT2</td>\n",
       "      <td>5.0</td>\n",
       "      <td>\\n\\n\\n\\n\\n\\n\\n\\n  \\n  \\n    Best earbuds for 5...</td>\n",
       "    </tr>\n",
       "  </tbody>\n",
       "</table>\n",
       "</div>"
      ],
      "text/plain": [
       "         asin  star                                           combined\n",
       "0  B0855T8JT2   3.0  \\n\\n\\n\\n\\n\\n\\n\\n  \\n  \\n    Poor call quality ...\n",
       "1  B0855T8JT2   5.0  \\n\\n\\n\\n\\n\\n\\n\\n  \\n  \\n    Sound Output\\n  \\n...\n",
       "2  B0855T8JT2   5.0  \\n\\n\\n\\n\\n\\n\\n\\n  \\n  \\n    Wonderful\\n  \\n\\n\\...\n",
       "3  B0855T8JT2   4.0  \\n\\n\\n\\n\\n\\n\\n\\n  \\n  \\n    Hi\\n  \\n\\n\\n\\n\\n\\n...\n",
       "4  B0855T8JT2   5.0  \\n\\n\\n\\n\\n\\n\\n\\n  \\n  \\n    Best earbuds for 5..."
      ]
     },
     "execution_count": 4,
     "metadata": {},
     "output_type": "execute_result"
    }
   ],
   "source": [
    "cols = ['title', 'review']\n",
    "review_df['combined'] = review_df[cols].apply(lambda row: '\\n'.join(row.values.astype(str)), axis=1)\n",
    "review_df.drop(['title','review'],axis = 1,inplace = True)\n",
    "review_df.head()"
   ]
  },
  {
   "cell_type": "code",
   "execution_count": 5,
   "metadata": {},
   "outputs": [],
   "source": [
    "def clean_data(stri):\n",
    "    sent_lst = []\n",
    "\n",
    "    for sent in sent_tokenize(stri):\n",
    "        lst = []\n",
    "        for word in word_tokenize(sent):\n",
    "            if(word.isalpha() and not word in stop_words and len(word)>1):\n",
    "                lst.append(word.lower())\n",
    "        #clean_sent = ' '.join(lst)\n",
    "        #sent_lst.append(clean_sent)\n",
    "        sent_lst = sent_lst+lst\n",
    "\n",
    "    para = '. '.join(sent_lst)\n",
    "    return sent_lst"
   ]
  },
  {
   "cell_type": "code",
   "execution_count": 6,
   "metadata": {
    "scrolled": true
   },
   "outputs": [],
   "source": [
    "review_df['combined'] = review_df['combined'].apply(lambda x: clean_data(x))"
   ]
  },
  {
   "cell_type": "code",
   "execution_count": 7,
   "metadata": {
    "scrolled": true
   },
   "outputs": [
    {
     "data": {
      "text/html": [
       "<div>\n",
       "<style scoped>\n",
       "    .dataframe tbody tr th:only-of-type {\n",
       "        vertical-align: middle;\n",
       "    }\n",
       "\n",
       "    .dataframe tbody tr th {\n",
       "        vertical-align: top;\n",
       "    }\n",
       "\n",
       "    .dataframe thead th {\n",
       "        text-align: right;\n",
       "    }\n",
       "</style>\n",
       "<table border=\"1\" class=\"dataframe\">\n",
       "  <thead>\n",
       "    <tr style=\"text-align: right;\">\n",
       "      <th></th>\n",
       "      <th>asin</th>\n",
       "      <th>star</th>\n",
       "      <th>combined</th>\n",
       "    </tr>\n",
       "  </thead>\n",
       "  <tbody>\n",
       "    <tr>\n",
       "      <th>0</th>\n",
       "      <td>B0855T8JT2</td>\n",
       "      <td>3.0</td>\n",
       "      <td>[poor, call, quality, return, got, earphones, ...</td>\n",
       "    </tr>\n",
       "    <tr>\n",
       "      <th>1</th>\n",
       "      <td>B0855T8JT2</td>\n",
       "      <td>5.0</td>\n",
       "      <td>[sound, output, music, quality, way, better, c...</td>\n",
       "    </tr>\n",
       "    <tr>\n",
       "      <th>2</th>\n",
       "      <td>B0855T8JT2</td>\n",
       "      <td>5.0</td>\n",
       "      <td>[wonderful, bit, skeptical, buying, performing...</td>\n",
       "    </tr>\n",
       "    <tr>\n",
       "      <th>3</th>\n",
       "      <td>B0855T8JT2</td>\n",
       "      <td>4.0</td>\n",
       "      <td>[hi, hi]</td>\n",
       "    </tr>\n",
       "    <tr>\n",
       "      <th>4</th>\n",
       "      <td>B0855T8JT2</td>\n",
       "      <td>5.0</td>\n",
       "      <td>[best, earbuds, rs, the, product, feels, premi...</td>\n",
       "    </tr>\n",
       "  </tbody>\n",
       "</table>\n",
       "</div>"
      ],
      "text/plain": [
       "         asin  star                                           combined\n",
       "0  B0855T8JT2   3.0  [poor, call, quality, return, got, earphones, ...\n",
       "1  B0855T8JT2   5.0  [sound, output, music, quality, way, better, c...\n",
       "2  B0855T8JT2   5.0  [wonderful, bit, skeptical, buying, performing...\n",
       "3  B0855T8JT2   4.0                                           [hi, hi]\n",
       "4  B0855T8JT2   5.0  [best, earbuds, rs, the, product, feels, premi..."
      ]
     },
     "execution_count": 7,
     "metadata": {},
     "output_type": "execute_result"
    }
   ],
   "source": [
    "review_df.head()"
   ]
  },
  {
   "cell_type": "code",
   "execution_count": 8,
   "metadata": {},
   "outputs": [
    {
     "data": {
      "text/plain": [
       "5.0    1082\n",
       "1.0     706\n",
       "4.0     444\n",
       "3.0     289\n",
       "2.0     234\n",
       "Name: star, dtype: int64"
      ]
     },
     "execution_count": 8,
     "metadata": {},
     "output_type": "execute_result"
    }
   ],
   "source": [
    "review_df['star'].value_counts()"
   ]
  },
  {
   "cell_type": "code",
   "execution_count": 9,
   "metadata": {},
   "outputs": [
    {
     "data": {
      "text/plain": [
       " 1    1082\n",
       "-1     940\n",
       " 0     733\n",
       "Name: star, dtype: int64"
      ]
     },
     "execution_count": 9,
     "metadata": {},
     "output_type": "execute_result"
    }
   ],
   "source": [
    "def update_star(star):\n",
    "    if star == 5:\n",
    "        return 1\n",
    "    elif star in [3,4]:\n",
    "        return 0\n",
    "    else:\n",
    "        return -1\n",
    "\n",
    "review_df['star'] = review_df['star'].apply(lambda x: update_star(x))\n",
    "\n",
    "review_df['star'].value_counts()"
   ]
  },
  {
   "cell_type": "code",
   "execution_count": 10,
   "metadata": {},
   "outputs": [],
   "source": [
    "from gensim.models import Word2Vec\n",
    "\n",
    "w2v_model = Word2Vec(review_df['combined'].values, min_count = 1,size = 500, window = 5)"
   ]
  },
  {
   "cell_type": "code",
   "execution_count": 11,
   "metadata": {},
   "outputs": [
    {
     "data": {
      "text/plain": [
       "[('sound', 0.999277651309967),\n",
       " ('quality', 0.9968203902244568),\n",
       " ('bass', 0.9948274493217468),\n",
       " ('build', 0.9935905933380127),\n",
       " ('cancellation', 0.9901747107505798),\n",
       " ('awesome', 0.9892957806587219),\n",
       " ('earbudssound', 0.9888919591903687),\n",
       " ('mike', 0.9840363264083862),\n",
       " ('great', 0.9821089506149292),\n",
       " ('trebles', 0.9820219278335571)]"
      ]
     },
     "execution_count": 11,
     "metadata": {},
     "output_type": "execute_result"
    }
   ],
   "source": [
    "w2v_model.wv.most_similar('good')"
   ]
  },
  {
   "cell_type": "code",
   "execution_count": 12,
   "metadata": {
    "scrolled": false
   },
   "outputs": [
    {
     "name": "stderr",
     "output_type": "stream",
     "text": [
      "<ipython-input-12-dbf8b147b8c6>:1: DeprecationWarning: Call to deprecated `__getitem__` (Method will be removed in 4.0.0, use self.wv.__getitem__() instead).\n",
      "  w2v_model['great']\n"
     ]
    },
    {
     "data": {
      "text/plain": [
       "array([ 0.41453624, -0.0828562 , -0.19796993, -0.01186999, -0.11706542,\n",
       "       -0.38791385, -0.1467456 , -0.3949752 , -0.31142968, -0.37881944,\n",
       "       -0.33553582, -0.14368868,  0.13814388,  0.24564762,  0.33776855,\n",
       "        0.21935819, -0.1377813 ,  0.05818711, -0.07055242,  0.1438436 ,\n",
       "       -0.35406765,  0.35303074,  0.29929015,  0.18572117, -0.31465927,\n",
       "        0.2737535 , -0.20922004,  0.01112132, -0.25397798, -0.08719689,\n",
       "       -0.02732718,  0.04761138, -0.13456659,  0.06527635, -0.24008317,\n",
       "        0.06362835,  0.32228607,  0.04323518, -0.5305694 , -0.17099947,\n",
       "       -0.02360027, -0.16188619, -0.5854229 , -0.01188337, -0.3290534 ,\n",
       "       -0.3350973 ,  0.20711361, -0.35789242,  0.0600985 ,  0.04556758,\n",
       "       -0.04594874,  0.33181608,  0.19979249,  0.1370974 ,  0.28307977,\n",
       "        0.00316844, -0.09905422,  0.27379948,  0.07220468,  0.13342729,\n",
       "        0.05596619, -0.10265908, -0.20854041, -0.07535276, -0.29241857,\n",
       "       -0.2957489 , -0.01468504,  0.15184923, -0.14170271, -0.3144357 ,\n",
       "       -0.06559461, -0.1419951 , -0.01368005, -0.20289059, -0.49939546,\n",
       "       -0.08462375,  0.08602227,  0.08609607, -0.6216547 ,  0.15610205,\n",
       "       -0.25504392,  0.50596464,  0.17895588,  0.1356497 , -0.17539066,\n",
       "       -0.00409732, -0.13828225, -0.07607644, -0.38659018, -0.16097745,\n",
       "        0.31822127, -0.43108702,  0.20788199, -0.2867993 ,  0.18848369,\n",
       "       -0.05222256,  0.00780018, -0.09426431,  0.12607425, -0.42872882,\n",
       "        0.27452022,  0.01073274, -0.10095671,  0.14770067, -0.27327323,\n",
       "        0.2268907 , -0.40952852,  0.25345036,  0.17670543,  0.16253278,\n",
       "        0.30859312,  0.29759234,  0.16158248, -0.03561232,  0.14779578,\n",
       "       -0.07825663, -0.12506026,  0.12673393, -0.13324371,  0.2329174 ,\n",
       "       -0.02228241, -0.17837547, -0.05162477,  0.08583921, -0.00077472,\n",
       "        0.0715896 ,  0.2209776 , -0.15031517, -0.239816  , -0.13855456,\n",
       "        0.44014186, -0.12269828,  0.02584194, -0.22181626,  0.201319  ,\n",
       "       -0.08563643, -0.20431826, -0.38237286, -0.08932687,  0.5579609 ,\n",
       "        0.02395041, -0.22770324, -0.03597337, -0.1111261 ,  0.03630529,\n",
       "       -0.39705768,  0.30909398,  0.24941014, -0.18576865,  0.03689164,\n",
       "       -0.07211115,  0.25419807,  0.00511449,  0.298808  ,  0.16275364,\n",
       "        0.08650024, -0.29146686, -0.4758183 ,  0.32749447,  0.10307802,\n",
       "        0.00842808, -0.22551693,  0.2858059 , -0.18054101,  0.01721309,\n",
       "       -0.12663192, -0.16007154, -0.09433562,  0.10602178,  0.40721828,\n",
       "       -0.22327207,  0.16813353, -0.02295826, -0.25883695, -0.4759436 ,\n",
       "       -0.14034449, -0.08629589,  0.32060513,  0.52631885,  0.17966175,\n",
       "       -0.13216515, -0.03865083,  0.07932122, -0.29680866, -0.4190283 ,\n",
       "       -0.18460439, -0.291457  ,  0.12776154,  0.02651413, -0.34203812,\n",
       "       -0.46793988,  0.1328688 , -0.21196496, -0.0916047 ,  0.17707908,\n",
       "        0.1750503 ,  0.08341961,  0.47205856,  0.16690263, -0.08777846,\n",
       "       -0.12430252,  0.08856556,  0.1334324 , -0.13019513,  0.2036451 ,\n",
       "        0.13370213,  0.43496323,  0.05904339, -0.10605378,  0.37698933,\n",
       "       -0.01928222, -0.01546272, -0.11458452, -0.01360866, -0.05190058,\n",
       "        0.10559945,  0.4849382 ,  0.04032243, -0.4095646 , -0.12858017,\n",
       "        0.13699755, -0.03053736, -0.06140295, -0.05596241, -0.06560089,\n",
       "        0.01666914, -0.13065664, -0.5066102 , -0.20697244,  0.4302591 ,\n",
       "        0.14761202,  0.09635048,  0.15944073,  0.09386753,  0.18256927,\n",
       "       -0.04516159, -0.37819833,  0.07030335, -0.29569942,  0.05237056,\n",
       "        0.20497642,  0.06992749, -0.13287878, -0.07838931,  0.12104696,\n",
       "       -0.36856908,  0.19922718,  0.08394656, -0.04705416, -0.11395905,\n",
       "       -0.2831161 ,  0.02400316,  0.26247025,  0.34613606, -0.16641577,\n",
       "        0.13947216, -0.42525876, -0.21944365, -0.09042769,  0.24425842,\n",
       "       -0.18647102, -0.48808032, -0.4177858 ,  0.14260803,  0.4390776 ,\n",
       "       -0.15109526, -0.30650416, -0.1362479 , -0.2456033 , -0.12021787,\n",
       "       -0.03728757,  0.20236067,  0.4388747 , -0.25440422, -0.19513854,\n",
       "        0.18903634, -0.10579989,  0.3895803 ,  0.1076191 , -0.12186563,\n",
       "        0.11033281,  0.37977102, -0.12819897, -0.08521   , -0.01757945,\n",
       "       -0.27313986,  0.1761168 , -0.3855479 , -0.04530879,  0.14333239,\n",
       "       -0.2492032 ,  0.15597034,  0.10311703, -0.1815493 ,  0.30091235,\n",
       "        0.2461817 ,  0.08155855,  0.22364956, -0.06391644, -0.13531072,\n",
       "        0.13851419, -0.17789364,  0.2707994 , -0.12867291, -0.20426731,\n",
       "       -0.4325099 , -0.18722892, -0.23482507, -0.62791896, -0.08132959,\n",
       "        0.37927032, -0.41186252,  0.33890018,  0.33798295,  0.03036177,\n",
       "        0.15583856,  0.27455515,  0.04460572,  0.25379628, -0.13471144,\n",
       "        0.2978399 ,  0.2612819 ,  0.01247688, -0.34469214, -0.4235401 ,\n",
       "        0.14524418,  0.0361351 ,  0.12495241,  0.10430947,  0.04197848,\n",
       "       -0.23037836,  0.21175691,  0.13549872, -0.33463207, -0.11656126,\n",
       "       -0.20562826, -0.30730373, -0.01485757,  0.04502551,  0.04327173,\n",
       "        0.27784237,  0.31266078, -0.43788153, -0.03698947,  0.3845445 ,\n",
       "        0.08545628,  0.01584291, -0.01165676, -0.04435336, -0.14086998,\n",
       "        0.26582813, -0.00843919,  0.23235898, -0.08797847,  0.11544217,\n",
       "       -0.06184966, -0.12546575,  0.15025605,  0.18097661, -0.18577814,\n",
       "        0.36134267,  0.29193917,  0.04834829,  0.35279495, -0.64016443,\n",
       "        0.29814953,  0.10911575,  0.09506876, -0.07925432, -0.20298888,\n",
       "       -0.05490689,  0.12530968, -0.0870271 , -0.02864113, -0.15042666,\n",
       "        0.29213437, -0.17821494,  0.18950975,  0.18699695,  0.1540276 ,\n",
       "        0.27130434,  0.07994824,  0.0437969 ,  0.10278618, -0.15889733,\n",
       "       -0.32392466, -0.12277446,  0.07660485,  0.09533858,  0.56379414,\n",
       "        0.29063806, -0.20576899, -0.25656557,  0.22691171,  0.13121633,\n",
       "        0.11957204, -0.17059602,  0.1354323 ,  0.05612732, -0.11357746,\n",
       "       -0.1925385 ,  0.1175291 , -0.08398886,  0.13230442,  0.03359966,\n",
       "        0.09064776,  0.19348928, -0.20413232, -0.05679462, -0.38030452,\n",
       "        0.05720767, -0.06439055, -0.02795132, -0.15784226, -0.5322823 ,\n",
       "        0.1586827 , -0.0510177 ,  0.2009365 , -0.09191778, -0.0524586 ,\n",
       "        0.16680863,  0.06079889,  0.11299405,  0.26731128,  0.12512921,\n",
       "        0.2629251 ,  0.1277304 ,  0.03202267, -0.22407827,  0.0950524 ,\n",
       "        0.05088569, -0.07821043, -0.20119923,  0.23494111, -0.12540898,\n",
       "       -0.3574482 , -0.04178558,  0.21430992, -0.18892318,  0.10101218,\n",
       "        0.08628383, -0.37209716,  0.11596569,  0.10399116,  0.13802508,\n",
       "       -0.40917847,  0.04817551, -0.05374002,  0.20445508,  0.34726772,\n",
       "       -0.08364108, -0.05061823,  0.00227828,  0.07897571, -0.07340794,\n",
       "        0.08646044,  0.05855779,  0.09296643,  0.07181579, -0.02195534,\n",
       "        0.05958616, -0.06463697,  0.18920778, -0.06826175, -0.19228718,\n",
       "        0.02655686,  0.07544961,  0.15395361, -0.07610167, -0.08829113,\n",
       "       -0.4875321 ,  0.14577527, -0.1034475 , -0.05589366,  0.02419154,\n",
       "        0.02035072,  0.24621671, -0.03930713,  0.40330037,  0.03057563,\n",
       "        0.19691065, -0.03419934, -0.11645637, -0.06785563, -0.01430457,\n",
       "       -0.02501875, -0.03605668, -0.23593375, -0.15672618, -0.00398661,\n",
       "       -0.06309321, -0.12783216, -0.38569698,  0.11989505,  0.0177765 ,\n",
       "        0.02116237,  0.32722542, -0.1290238 ,  0.0338598 ,  0.10862001],\n",
       "      dtype=float32)"
      ]
     },
     "execution_count": 12,
     "metadata": {},
     "output_type": "execute_result"
    }
   ],
   "source": [
    "w2v_model['great']"
   ]
  },
  {
   "cell_type": "code",
   "execution_count": 13,
   "metadata": {},
   "outputs": [
    {
     "name": "stderr",
     "output_type": "stream",
     "text": [
      "<ipython-input-13-c94bacd36426>:6: DeprecationWarning: Call to deprecated `__getitem__` (Method will be removed in 4.0.0, use self.wv.__getitem__() instead).\n",
      "  lst.append(w2v_model[j])\n"
     ]
    }
   ],
   "source": [
    "X = []\n",
    "for i in review_df['combined']:\n",
    "    lst = []\n",
    "    n = len(i)\n",
    "    for j in i:\n",
    "        lst.append(w2v_model[j])\n",
    "    lst = np.array(lst)\n",
    "    X.append([np.sum(lst[:,i])/n for i in range(100)])"
   ]
  },
  {
   "cell_type": "code",
   "execution_count": 14,
   "metadata": {},
   "outputs": [],
   "source": [
    "X = np.array(X)"
   ]
  },
  {
   "cell_type": "code",
   "execution_count": 15,
   "metadata": {},
   "outputs": [
    {
     "data": {
      "text/plain": [
       " 1    1082\n",
       "-1     940\n",
       " 0     733\n",
       "Name: star, dtype: int64"
      ]
     },
     "execution_count": 15,
     "metadata": {},
     "output_type": "execute_result"
    }
   ],
   "source": [
    "review_df['star'].value_counts()"
   ]
  },
  {
   "cell_type": "code",
   "execution_count": 16,
   "metadata": {},
   "outputs": [
    {
     "data": {
      "text/plain": [
       "(2755, 3)"
      ]
     },
     "execution_count": 16,
     "metadata": {},
     "output_type": "execute_result"
    }
   ],
   "source": [
    "review_df.shape"
   ]
  },
  {
   "cell_type": "code",
   "execution_count": 17,
   "metadata": {},
   "outputs": [
    {
     "data": {
      "text/plain": [
       "(2755, 100)"
      ]
     },
     "execution_count": 17,
     "metadata": {},
     "output_type": "execute_result"
    }
   ],
   "source": [
    "np.shape(X)"
   ]
  },
  {
   "cell_type": "code",
   "execution_count": 18,
   "metadata": {},
   "outputs": [],
   "source": [
    "y = review_df['star'].ravel()\n",
    "\n",
    "X_train,X_valid,y_train,y_valid = train_test_split(X,y,test_size=0.3,random_state=17)"
   ]
  },
  {
   "cell_type": "code",
   "execution_count": 19,
   "metadata": {},
   "outputs": [],
   "source": [
    "from sklearn.model_selection import KFold\n",
    "from sklearn.metrics import f1_score\n",
    "import numpy as np\n",
    "\n",
    "def cross_val(model,X,y):\n",
    "       \n",
    "    f1_scr = []\n",
    "    \n",
    "    rfk = KFold(n_splits=3, random_state=None,shuffle = True)\n",
    "    \n",
    "    for train, test in rfk.split(X): ## you must do this on full dataset \n",
    "        print\n",
    "        try:\n",
    "            X_train = X.iloc[train]\n",
    "            X_test = X.iloc[test]\n",
    "            \n",
    "        except:\n",
    "            X_train = X[train,:]\n",
    "            X_test = X[test,:]\n",
    "                        \n",
    "        y_train = y[train]\n",
    "        y_test = y[test]\n",
    "        \n",
    "        model.fit(X_train,y_train)\n",
    "        y_pred = model.predict(X_test)\n",
    "        f1 = f1_score(y_test, y_pred,average = 'micro')\n",
    "        f1_scr.append(f1)\n",
    "    print('F1 Score',np.mean(f1_scr))\n",
    "                    \n",
    "    return model"
   ]
  },
  {
   "cell_type": "code",
   "execution_count": 20,
   "metadata": {},
   "outputs": [],
   "source": [
    "from sklearn import metrics\n",
    "\n",
    "def pred(model,X,y):\n",
    "    y_pred = model.predict(X)\n",
    "    f1 = f1_score(y, y_pred,average = 'micro')\n",
    "    print(f1)\n",
    "    print(metrics.confusion_matrix(y, y_pred))\n",
    "    print(metrics.classification_report(y, y_pred))"
   ]
  },
  {
   "cell_type": "code",
   "execution_count": 21,
   "metadata": {},
   "outputs": [
    {
     "name": "stdout",
     "output_type": "stream",
     "text": [
      "F1 Score 0.5503077313152748\n",
      "0.5538089480048367\n",
      "[[216   5  60]\n",
      " [ 97   5 105]\n",
      " [ 94   8 237]]\n",
      "              precision    recall  f1-score   support\n",
      "\n",
      "          -1       0.53      0.77      0.63       281\n",
      "           0       0.28      0.02      0.04       207\n",
      "           1       0.59      0.70      0.64       339\n",
      "\n",
      "    accuracy                           0.55       827\n",
      "   macro avg       0.47      0.50      0.44       827\n",
      "weighted avg       0.49      0.55      0.49       827\n",
      "\n"
     ]
    }
   ],
   "source": [
    "from sklearn.linear_model import LogisticRegression\n",
    "\n",
    "Log_Reg = LogisticRegression(random_state=0,solver='lbfgs',max_iter = 200)\n",
    "\n",
    "Log_Reg = cross_val(Log_Reg,X_train,y_train)\n",
    "pred(Log_Reg,X_valid,y_valid)"
   ]
  },
  {
   "cell_type": "code",
   "execution_count": 22,
   "metadata": {},
   "outputs": [
    {
     "name": "stdout",
     "output_type": "stream",
     "text": [
      "F1 Score 0.5871410137772545\n",
      "0.5634824667472793\n",
      "[[185  51  45]\n",
      " [ 53  84  70]\n",
      " [ 58  84 197]]\n",
      "              precision    recall  f1-score   support\n",
      "\n",
      "          -1       0.62      0.66      0.64       281\n",
      "           0       0.38      0.41      0.39       207\n",
      "           1       0.63      0.58      0.61       339\n",
      "\n",
      "    accuracy                           0.56       827\n",
      "   macro avg       0.55      0.55      0.55       827\n",
      "weighted avg       0.57      0.56      0.56       827\n",
      "\n"
     ]
    }
   ],
   "source": [
    "from sklearn.tree import DecisionTreeClassifier\n",
    "\n",
    "DCT_Classifier = DecisionTreeClassifier(criterion='entropy', random_state=1)\n",
    "\n",
    "DCT_Classifier = cross_val(DCT_Classifier,X_train,y_train)\n",
    "pred(DCT_Classifier,X_valid,y_valid)"
   ]
  },
  {
   "cell_type": "code",
   "execution_count": 23,
   "metadata": {},
   "outputs": [
    {
     "name": "stdout",
     "output_type": "stream",
     "text": [
      "F1 Score 0.630703042106946\n",
      "0.6420798065296252\n",
      "[[201  37  43]\n",
      " [ 51  79  77]\n",
      " [ 43  45 251]]\n",
      "              precision    recall  f1-score   support\n",
      "\n",
      "          -1       0.68      0.72      0.70       281\n",
      "           0       0.49      0.38      0.43       207\n",
      "           1       0.68      0.74      0.71       339\n",
      "\n",
      "    accuracy                           0.64       827\n",
      "   macro avg       0.62      0.61      0.61       827\n",
      "weighted avg       0.63      0.64      0.63       827\n",
      "\n"
     ]
    }
   ],
   "source": [
    "from sklearn.ensemble import RandomForestClassifier\n",
    "\n",
    "RF_Classifier = cross_val(RandomForestClassifier(),X_train,y_train)\n",
    "pred(RF_Classifier,X_valid,y_valid)"
   ]
  },
  {
   "cell_type": "code",
   "execution_count": 24,
   "metadata": {},
   "outputs": [
    {
     "name": "stdout",
     "output_type": "stream",
     "text": [
      "F1 Score 0.650414480409684\n",
      "0.6590084643288996\n",
      "[[209  48  24]\n",
      " [ 41  93  73]\n",
      " [ 43  53 243]]\n",
      "              precision    recall  f1-score   support\n",
      "\n",
      "          -1       0.71      0.74      0.73       281\n",
      "           0       0.48      0.45      0.46       207\n",
      "           1       0.71      0.72      0.72       339\n",
      "\n",
      "    accuracy                           0.66       827\n",
      "   macro avg       0.64      0.64      0.64       827\n",
      "weighted avg       0.66      0.66      0.66       827\n",
      "\n"
     ]
    }
   ],
   "source": [
    "from xgboost import XGBClassifier\n",
    "\n",
    "XGB_Classifier = cross_val(XGBClassifier(),X_train,y_train)\n",
    "pred(XGB_Classifier,X_valid,y_valid)"
   ]
  },
  {
   "cell_type": "code",
   "execution_count": 25,
   "metadata": {},
   "outputs": [
    {
     "name": "stdout",
     "output_type": "stream",
     "text": [
      "F1 Score 0.5471892365905534\n",
      "0.5610640870616687\n",
      "[[199   0  82]\n",
      " [ 81   0 126]\n",
      " [ 74   0 265]]\n",
      "              precision    recall  f1-score   support\n",
      "\n",
      "          -1       0.56      0.71      0.63       281\n",
      "           0       0.00      0.00      0.00       207\n",
      "           1       0.56      0.78      0.65       339\n",
      "\n",
      "    accuracy                           0.56       827\n",
      "   macro avg       0.37      0.50      0.43       827\n",
      "weighted avg       0.42      0.56      0.48       827\n",
      "\n"
     ]
    },
    {
     "name": "stderr",
     "output_type": "stream",
     "text": [
      "C:\\Users\\sanja\\anaconda3\\lib\\site-packages\\sklearn\\metrics\\_classification.py:1221: UndefinedMetricWarning: Precision and F-score are ill-defined and being set to 0.0 in labels with no predicted samples. Use `zero_division` parameter to control this behavior.\n",
      "  _warn_prf(average, modifier, msg_start, len(result))\n"
     ]
    }
   ],
   "source": [
    "from sklearn.svm import SVC\n",
    "\n",
    "SVM_Classifier = cross_val(SVC(),X_train,y_train)\n",
    "pred(SVM_Classifier,X_valid,y_valid)"
   ]
  },
  {
   "cell_type": "code",
   "execution_count": 26,
   "metadata": {},
   "outputs": [
    {
     "name": "stdout",
     "output_type": "stream",
     "text": [
      "2 :  0.42294960329577896\n",
      "3 :  0.3512958638791364\n",
      "4 :  0.31084032836491465\n",
      "5 :  0.3108658099732099\n",
      "6 :  0.310479229287839\n",
      "7 :  0.2978770995334513\n",
      "8 :  0.2865076288116235\n",
      "9 :  0.2832739986546045\n",
      "10 :  0.27850719905076554\n",
      "11 :  0.2759130351565966\n",
      "12 :  0.2785164194086942\n",
      "13 :  0.27503569431031\n",
      "14 :  0.2689948720573706\n",
      "15 :  0.26612430609607035\n",
      "16 :  0.26649410719557953\n",
      "17 :  0.27001197029462404\n",
      "18 :  0.2686351730846561\n",
      "19 :  0.2625485427365976\n"
     ]
    },
    {
     "data": {
      "image/png": "[encoded data removed]",
      "text/plain": [
       "<Figure size 432x288 with 1 Axes>"
      ]
     },
     "metadata": {
      "needs_background": "light"
     },
     "output_type": "display_data"
    }
   ],
   "source": [
    "from sklearn.cluster import KMeans\n",
    "from sklearn.metrics import silhouette_score\n",
    "\n",
    "inertia_lst = []\n",
    "for i in range(2,20):\n",
    "    kmeans = KMeans(n_clusters=i, random_state=0).fit(X)\n",
    "    inertia_lst.append(kmeans.inertia_)\n",
    "    print(i,': ',silhouette_score(X, kmeans.labels_, metric='euclidean'))\n",
    "    \n",
    "plt.plot(range(2,20),inertia_lst)\n",
    "plt.xlabel(\"Value of K\") \n",
    "plt.ylabel(\"Sqaured Error (Cost)\") \n",
    "plt.show()"
   ]
  },
  {
   "cell_type": "code",
   "execution_count": null,
   "metadata": {},
   "outputs": [],
   "source": []
  },
  {
   "cell_type": "code",
   "execution_count": null,
   "metadata": {},
   "outputs": [],
   "source": []
  }
 ],
 "metadata": {
  "kernelspec": {
   "display_name": "Python 3",
   "language": "python",
   "name": "python3"
  },
  "language_info": {
   "codemirror_mode": {
    "name": "ipython",
    "version": 3
   },
   "file_extension": ".py",
   "mimetype": "text/x-python",
   "name": "python",
   "nbconvert_exporter": "python",
   "pygments_lexer": "ipython3",
   "version": "3.8.3"
  }
 },
 "nbformat": 4,
 "nbformat_minor": 4
}

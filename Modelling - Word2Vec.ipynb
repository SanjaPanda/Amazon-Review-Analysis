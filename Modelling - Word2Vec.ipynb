{
 "cells": [
  {
   "cell_type": "code",
   "execution_count": 1,
   "metadata": {
    "scrolled": true
   },
   "outputs": [],
   "source": [
    "import pandas as pd\n",
    "import string\n",
    "from nltk.tokenize import word_tokenize,sent_tokenize\n",
    "from nltk.corpus import stopwords\n",
    "from nltk.stem import WordNetLemmatizer\n",
    "\n",
    "import pattern\n",
    "from pattern.en import lemma\n",
    "\n",
    "from gensim.models import Word2Vec\n",
    "\n",
    "import numpy as np\n",
    "import re\n",
    "\n",
    "from sklearn.model_selection import KFold, cross_val_score, train_test_split\n",
    "import matplotlib.pyplot as plt"
   ]
  },
  {
   "cell_type": "code",
   "execution_count": 2,
   "metadata": {
    "scrolled": true
   },
   "outputs": [],
   "source": [
    "review_df = pd.read_csv('Review_Data.csv')\n",
    "stop_words = set(stopwords.words('english'))"
   ]
  },
  {
   "cell_type": "code",
   "execution_count": 3,
   "metadata": {},
   "outputs": [
    {
     "data": {
      "text/html": [
       "<div>\n",
       "<style scoped>\n",
       "    .dataframe tbody tr th:only-of-type {\n",
       "        vertical-align: middle;\n",
       "    }\n",
       "\n",
       "    .dataframe tbody tr th {\n",
       "        vertical-align: top;\n",
       "    }\n",
       "\n",
       "    .dataframe thead th {\n",
       "        text-align: right;\n",
       "    }\n",
       "</style>\n",
       "<table border=\"1\" class=\"dataframe\">\n",
       "  <thead>\n",
       "    <tr style=\"text-align: right;\">\n",
       "      <th></th>\n",
       "      <th>asin</th>\n",
       "      <th>title</th>\n",
       "      <th>review</th>\n",
       "      <th>star</th>\n",
       "    </tr>\n",
       "  </thead>\n",
       "  <tbody>\n",
       "    <tr>\n",
       "      <th>0</th>\n",
       "      <td>B0855T8JT2</td>\n",
       "      <td>\\n\\n\\n\\n\\n\\n\\n\\n  \\n  \\n    Poor call quality ...</td>\n",
       "      <td>\\n\\n\\n\\n\\n\\n\\n\\n\\n\\n  \\n  \\n    \\n  Got these ...</td>\n",
       "      <td>3.0</td>\n",
       "    </tr>\n",
       "    <tr>\n",
       "      <th>1</th>\n",
       "      <td>B0855T8JT2</td>\n",
       "      <td>\\n\\n\\n\\n\\n\\n\\n\\n  \\n  \\n    Sound Output\\n  \\n</td>\n",
       "      <td>\\n\\n\\n\\n\\n\\n\\n\\n\\n\\n  \\n  \\n    \\n  Music qual...</td>\n",
       "      <td>5.0</td>\n",
       "    </tr>\n",
       "    <tr>\n",
       "      <th>2</th>\n",
       "      <td>B0855T8JT2</td>\n",
       "      <td>\\n\\n\\n\\n\\n\\n\\n\\n  \\n  \\n    Wonderful\\n  \\n</td>\n",
       "      <td>\\n\\n\\n\\n\\n\\n\\n\\n\\n\\n  \\n  \\n    \\n  I was a bi...</td>\n",
       "      <td>5.0</td>\n",
       "    </tr>\n",
       "    <tr>\n",
       "      <th>3</th>\n",
       "      <td>B0855T8JT2</td>\n",
       "      <td>\\n\\n\\n\\n\\n\\n\\n\\n  \\n  \\n    Hi\\n  \\n</td>\n",
       "      <td>\\n\\n\\n\\n\\n\\n\\n\\n\\n\\n  \\n  \\n    \\n  Hi\\n\\n  \\n</td>\n",
       "      <td>4.0</td>\n",
       "    </tr>\n",
       "    <tr>\n",
       "      <th>4</th>\n",
       "      <td>B0855T8JT2</td>\n",
       "      <td>\\n\\n\\n\\n\\n\\n\\n\\n  \\n  \\n    Best earbuds for 5...</td>\n",
       "      <td>\\n\\n\\n\\n\\n\\n\\n\\n\\n\\n  \\n  \\n    \\n  The produc...</td>\n",
       "      <td>5.0</td>\n",
       "    </tr>\n",
       "  </tbody>\n",
       "</table>\n",
       "</div>"
      ],
      "text/plain": [
       "         asin                                              title  \\\n",
       "0  B0855T8JT2  \\n\\n\\n\\n\\n\\n\\n\\n  \\n  \\n    Poor call quality ...   \n",
       "1  B0855T8JT2     \\n\\n\\n\\n\\n\\n\\n\\n  \\n  \\n    Sound Output\\n  \\n   \n",
       "2  B0855T8JT2        \\n\\n\\n\\n\\n\\n\\n\\n  \\n  \\n    Wonderful\\n  \\n   \n",
       "3  B0855T8JT2               \\n\\n\\n\\n\\n\\n\\n\\n  \\n  \\n    Hi\\n  \\n   \n",
       "4  B0855T8JT2  \\n\\n\\n\\n\\n\\n\\n\\n  \\n  \\n    Best earbuds for 5...   \n",
       "\n",
       "                                              review  star  \n",
       "0  \\n\\n\\n\\n\\n\\n\\n\\n\\n\\n  \\n  \\n    \\n  Got these ...   3.0  \n",
       "1  \\n\\n\\n\\n\\n\\n\\n\\n\\n\\n  \\n  \\n    \\n  Music qual...   5.0  \n",
       "2  \\n\\n\\n\\n\\n\\n\\n\\n\\n\\n  \\n  \\n    \\n  I was a bi...   5.0  \n",
       "3     \\n\\n\\n\\n\\n\\n\\n\\n\\n\\n  \\n  \\n    \\n  Hi\\n\\n  \\n   4.0  \n",
       "4  \\n\\n\\n\\n\\n\\n\\n\\n\\n\\n  \\n  \\n    \\n  The produc...   5.0  "
      ]
     },
     "execution_count": 3,
     "metadata": {},
     "output_type": "execute_result"
    }
   ],
   "source": [
    "review_df.head()"
   ]
  },
  {
   "cell_type": "code",
   "execution_count": 4,
   "metadata": {},
   "outputs": [
    {
     "data": {
      "text/html": [
       "<div>\n",
       "<style scoped>\n",
       "    .dataframe tbody tr th:only-of-type {\n",
       "        vertical-align: middle;\n",
       "    }\n",
       "\n",
       "    .dataframe tbody tr th {\n",
       "        vertical-align: top;\n",
       "    }\n",
       "\n",
       "    .dataframe thead th {\n",
       "        text-align: right;\n",
       "    }\n",
       "</style>\n",
       "<table border=\"1\" class=\"dataframe\">\n",
       "  <thead>\n",
       "    <tr style=\"text-align: right;\">\n",
       "      <th></th>\n",
       "      <th>asin</th>\n",
       "      <th>star</th>\n",
       "      <th>combined</th>\n",
       "    </tr>\n",
       "  </thead>\n",
       "  <tbody>\n",
       "    <tr>\n",
       "      <th>0</th>\n",
       "      <td>B0855T8JT2</td>\n",
       "      <td>3.0</td>\n",
       "      <td>\\n\\n\\n\\n\\n\\n\\n\\n  \\n  \\n    Poor call quality ...</td>\n",
       "    </tr>\n",
       "    <tr>\n",
       "      <th>1</th>\n",
       "      <td>B0855T8JT2</td>\n",
       "      <td>5.0</td>\n",
       "      <td>\\n\\n\\n\\n\\n\\n\\n\\n  \\n  \\n    Sound Output\\n  \\n...</td>\n",
       "    </tr>\n",
       "    <tr>\n",
       "      <th>2</th>\n",
       "      <td>B0855T8JT2</td>\n",
       "      <td>5.0</td>\n",
       "      <td>\\n\\n\\n\\n\\n\\n\\n\\n  \\n  \\n    Wonderful\\n  \\n\\n\\...</td>\n",
       "    </tr>\n",
       "    <tr>\n",
       "      <th>3</th>\n",
       "      <td>B0855T8JT2</td>\n",
       "      <td>4.0</td>\n",
       "      <td>\\n\\n\\n\\n\\n\\n\\n\\n  \\n  \\n    Hi\\n  \\n\\n\\n\\n\\n\\n...</td>\n",
       "    </tr>\n",
       "    <tr>\n",
       "      <th>4</th>\n",
       "      <td>B0855T8JT2</td>\n",
       "      <td>5.0</td>\n",
       "      <td>\\n\\n\\n\\n\\n\\n\\n\\n  \\n  \\n    Best earbuds for 5...</td>\n",
       "    </tr>\n",
       "  </tbody>\n",
       "</table>\n",
       "</div>"
      ],
      "text/plain": [
       "         asin  star                                           combined\n",
       "0  B0855T8JT2   3.0  \\n\\n\\n\\n\\n\\n\\n\\n  \\n  \\n    Poor call quality ...\n",
       "1  B0855T8JT2   5.0  \\n\\n\\n\\n\\n\\n\\n\\n  \\n  \\n    Sound Output\\n  \\n...\n",
       "2  B0855T8JT2   5.0  \\n\\n\\n\\n\\n\\n\\n\\n  \\n  \\n    Wonderful\\n  \\n\\n\\...\n",
       "3  B0855T8JT2   4.0  \\n\\n\\n\\n\\n\\n\\n\\n  \\n  \\n    Hi\\n  \\n\\n\\n\\n\\n\\n...\n",
       "4  B0855T8JT2   5.0  \\n\\n\\n\\n\\n\\n\\n\\n  \\n  \\n    Best earbuds for 5..."
      ]
     },
     "execution_count": 4,
     "metadata": {},
     "output_type": "execute_result"
    }
   ],
   "source": [
    "cols = ['title', 'review']\n",
    "review_df['combined'] = review_df[cols].apply(lambda row: '\\n'.join(row.values.astype(str)), axis=1)\n",
    "review_df.drop(['title','review'],axis = 1,inplace = True)\n",
    "review_df.head()"
   ]
  },
  {
   "cell_type": "code",
   "execution_count": 5,
   "metadata": {},
   "outputs": [],
   "source": [
    "def clean_data(stri):\n",
    "    sent_lst = []\n",
    "\n",
    "    for sent in sent_tokenize(stri):\n",
    "        lst = []\n",
    "        for word in word_tokenize(sent):\n",
    "            if(word.isalpha() and not word in stop_words and len(word)>1):\n",
    "                lst.append(word.lower())\n",
    "        #clean_sent = ' '.join(lst)\n",
    "        #sent_lst.append(clean_sent)\n",
    "        sent_lst = sent_lst+lst\n",
    "\n",
    "    para = '. '.join(sent_lst)\n",
    "    return sent_lst"
   ]
  },
  {
   "cell_type": "code",
   "execution_count": 6,
   "metadata": {
    "scrolled": true
   },
   "outputs": [],
   "source": [
    "review_df['combined'] = review_df['combined'].apply(lambda x: clean_data(x))"
   ]
  },
  {
   "cell_type": "code",
   "execution_count": 7,
   "metadata": {
    "scrolled": true
   },
   "outputs": [
    {
     "data": {
      "text/html": [
       "<div>\n",
       "<style scoped>\n",
       "    .dataframe tbody tr th:only-of-type {\n",
       "        vertical-align: middle;\n",
       "    }\n",
       "\n",
       "    .dataframe tbody tr th {\n",
       "        vertical-align: top;\n",
       "    }\n",
       "\n",
       "    .dataframe thead th {\n",
       "        text-align: right;\n",
       "    }\n",
       "</style>\n",
       "<table border=\"1\" class=\"dataframe\">\n",
       "  <thead>\n",
       "    <tr style=\"text-align: right;\">\n",
       "      <th></th>\n",
       "      <th>asin</th>\n",
       "      <th>star</th>\n",
       "      <th>combined</th>\n",
       "    </tr>\n",
       "  </thead>\n",
       "  <tbody>\n",
       "    <tr>\n",
       "      <th>0</th>\n",
       "      <td>B0855T8JT2</td>\n",
       "      <td>3.0</td>\n",
       "      <td>[poor, call, quality, return, got, earphones, ...</td>\n",
       "    </tr>\n",
       "    <tr>\n",
       "      <th>1</th>\n",
       "      <td>B0855T8JT2</td>\n",
       "      <td>5.0</td>\n",
       "      <td>[sound, output, music, quality, way, better, c...</td>\n",
       "    </tr>\n",
       "    <tr>\n",
       "      <th>2</th>\n",
       "      <td>B0855T8JT2</td>\n",
       "      <td>5.0</td>\n",
       "      <td>[wonderful, bit, skeptical, buying, performing...</td>\n",
       "    </tr>\n",
       "    <tr>\n",
       "      <th>3</th>\n",
       "      <td>B0855T8JT2</td>\n",
       "      <td>4.0</td>\n",
       "      <td>[hi, hi]</td>\n",
       "    </tr>\n",
       "    <tr>\n",
       "      <th>4</th>\n",
       "      <td>B0855T8JT2</td>\n",
       "      <td>5.0</td>\n",
       "      <td>[best, earbuds, rs, the, product, feels, premi...</td>\n",
       "    </tr>\n",
       "  </tbody>\n",
       "</table>\n",
       "</div>"
      ],
      "text/plain": [
       "         asin  star                                           combined\n",
       "0  B0855T8JT2   3.0  [poor, call, quality, return, got, earphones, ...\n",
       "1  B0855T8JT2   5.0  [sound, output, music, quality, way, better, c...\n",
       "2  B0855T8JT2   5.0  [wonderful, bit, skeptical, buying, performing...\n",
       "3  B0855T8JT2   4.0                                           [hi, hi]\n",
       "4  B0855T8JT2   5.0  [best, earbuds, rs, the, product, feels, premi..."
      ]
     },
     "execution_count": 7,
     "metadata": {},
     "output_type": "execute_result"
    }
   ],
   "source": [
    "review_df.head()"
   ]
  },
  {
   "cell_type": "code",
   "execution_count": 8,
   "metadata": {},
   "outputs": [
    {
     "data": {
      "text/plain": [
       "5.0    1082\n",
       "1.0     706\n",
       "4.0     444\n",
       "3.0     289\n",
       "2.0     234\n",
       "Name: star, dtype: int64"
      ]
     },
     "execution_count": 8,
     "metadata": {},
     "output_type": "execute_result"
    }
   ],
   "source": [
    "review_df['star'].value_counts()"
   ]
  },
  {
   "cell_type": "code",
   "execution_count": 9,
   "metadata": {},
   "outputs": [
    {
     "data": {
      "text/plain": [
       " 1    1082\n",
       "-1     940\n",
       " 0     733\n",
       "Name: star, dtype: int64"
      ]
     },
     "execution_count": 9,
     "metadata": {},
     "output_type": "execute_result"
    }
   ],
   "source": [
    "def update_star(star):\n",
    "    if star == 5:\n",
    "        return 1\n",
    "    elif star in [3,4]:\n",
    "        return 0\n",
    "    else:\n",
    "        return -1\n",
    "\n",
    "review_df['star'] = review_df['star'].apply(lambda x: update_star(x))\n",
    "\n",
    "review_df['star'].value_counts()"
   ]
  },
  {
   "cell_type": "code",
   "execution_count": 10,
   "metadata": {},
   "outputs": [],
   "source": [
    "from gensim.models import Word2Vec\n",
    "\n",
    "w2v_model = Word2Vec(review_df['combined'].values, min_count = 1,size = 500, window = 5)"
   ]
  },
  {
   "cell_type": "code",
   "execution_count": 11,
   "metadata": {},
   "outputs": [
    {
     "data": {
      "text/plain": [
       "[('sound', 0.9993500709533691),\n",
       " ('bass', 0.9966362714767456),\n",
       " ('build', 0.9938165545463562),\n",
       " ('quality', 0.9937824010848999),\n",
       " ('awesome', 0.9929171800613403),\n",
       " ('cancellation', 0.9891846776008606),\n",
       " ('great', 0.984470546245575),\n",
       " ('amazing', 0.9811574816703796),\n",
       " ('harmless', 0.9806011319160461),\n",
       " ('noise', 0.98052978515625)]"
      ]
     },
     "execution_count": 11,
     "metadata": {},
     "output_type": "execute_result"
    }
   ],
   "source": [
    "w2v_model.wv.most_similar('good')"
   ]
  },
  {
   "cell_type": "code",
   "execution_count": 12,
   "metadata": {
    "scrolled": false
   },
   "outputs": [
    {
     "name": "stderr",
     "output_type": "stream",
     "text": [
      "<ipython-input-12-dbf8b147b8c6>:1: DeprecationWarning: Call to deprecated `__getitem__` (Method will be removed in 4.0.0, use self.wv.__getitem__() instead).\n",
      "  w2v_model['great']\n"
     ]
    },
    {
     "data": {
      "text/plain": [
       "array([-0.09333984, -0.14042993,  0.04643009,  0.06607221,  0.11201394,\n",
       "        0.3535476 , -0.21266334, -0.3948835 , -0.07899553,  0.16217926,\n",
       "       -0.10901558,  0.07805146, -0.22244385,  0.16926046,  0.29651567,\n",
       "        0.4069054 , -0.24546531, -0.00213775,  0.19387573, -0.11414941,\n",
       "       -0.28538722, -0.07564654, -0.11815751,  0.05870759,  0.16874236,\n",
       "       -0.31764162,  0.09244335, -0.51054907,  0.03271062,  0.2852259 ,\n",
       "       -0.5907418 , -0.02782367, -0.21475072, -0.01912696,  0.00115082,\n",
       "        0.22162618,  0.28749958, -0.05500311,  0.25548744, -0.00970612,\n",
       "        0.24128166, -0.14706999,  0.0699497 , -0.1316559 , -0.02467013,\n",
       "        0.09104526, -0.2845481 ,  0.1250276 ,  0.34114864,  0.20195752,\n",
       "        0.07160643, -0.05632507, -0.10370009, -0.09468248, -0.14004974,\n",
       "       -0.11093871, -0.12500443,  0.21647789, -0.10736471, -0.15351032,\n",
       "        0.00948211,  0.4266645 , -0.3406965 ,  0.04381622, -0.08873503,\n",
       "        0.19306546,  0.49964055, -0.18358082, -0.07975745, -0.05026463,\n",
       "        0.35828376, -0.03797817,  0.14008929, -0.07915328, -0.28973347,\n",
       "        0.07898069, -0.17904735,  0.32995212, -0.42930275, -0.17303339,\n",
       "        0.07922481, -0.03081734, -0.01827595, -0.5057506 ,  0.01325627,\n",
       "       -0.33537972, -0.19954377,  0.24678792,  0.06279162, -0.2747106 ,\n",
       "        0.06843195, -0.25842595, -0.17524727, -0.2499154 , -0.19497697,\n",
       "        0.06052205,  0.21327426,  0.16639587,  0.08625661, -0.31196517,\n",
       "        0.24461596,  0.00988487,  0.1780942 , -0.04471956,  0.18793547,\n",
       "       -0.37287936,  0.3206382 ,  0.17906304,  0.25795102, -0.04766168,\n",
       "        0.0593443 ,  0.11514158,  0.04906385, -0.23635921, -0.11269272,\n",
       "        0.32796687,  0.09211184, -0.12330016, -0.43617064,  0.40037957,\n",
       "       -0.1476121 ,  0.03295447,  0.13186689, -0.21072598, -0.06737636,\n",
       "       -0.02899189,  0.09236387,  0.27485335, -0.1799413 ,  0.10599017,\n",
       "       -0.6423047 , -0.13169156, -0.018898  ,  0.02457907, -0.03053189,\n",
       "        0.09696723, -0.26265523,  0.10616722, -0.07386859, -0.0414197 ,\n",
       "       -0.30474523, -0.01498569, -0.26482135, -0.04172832, -0.03840876,\n",
       "        0.02334725,  0.18611443, -0.17697716, -0.24409927,  0.32127184,\n",
       "        0.05848391, -0.06094678,  0.0981242 , -0.19462048, -0.20911556,\n",
       "       -0.007483  ,  0.38262776,  0.11773536,  0.01660799,  0.04177998,\n",
       "       -0.26674834,  0.05637374, -0.43947572,  0.14654638,  0.06683772,\n",
       "        0.13400409,  0.04395552, -0.02574867,  0.23773402, -0.00638807,\n",
       "        0.24515049,  0.04597796,  0.1688555 , -0.45279253,  0.01909036,\n",
       "       -0.20030901, -0.16884026, -0.13302281,  0.00116746, -0.00990468,\n",
       "        0.00555342,  0.03959201, -0.11705197,  0.32314876, -0.13991553,\n",
       "        0.04838989,  0.06633269,  0.07780465,  0.14315456, -0.31576458,\n",
       "        0.12330344,  0.22906336, -0.35668156,  0.19164532, -0.18697894,\n",
       "       -0.01898504,  0.3983092 ,  0.14638884,  0.26369533,  0.1118827 ,\n",
       "       -0.07958772,  0.02361631,  0.17190011,  0.20576839,  0.17824297,\n",
       "       -0.1366587 , -0.34699032, -0.03958769, -0.08166391,  0.05274327,\n",
       "       -0.29270926, -0.21763818,  0.157463  , -0.05147987, -0.2140342 ,\n",
       "       -0.0906109 ,  0.1929751 , -0.17845413, -0.26144567,  0.33602962,\n",
       "        0.01367432, -0.13269526,  0.2269897 , -0.3229376 ,  0.13330036,\n",
       "       -0.19662568, -0.2240504 , -0.29531518, -0.17247386,  0.05665695,\n",
       "       -0.3552817 , -0.11528618, -0.01573781,  0.36865407, -0.03534636,\n",
       "        0.11430341, -0.07651259, -0.10715287, -0.0690809 ,  0.33961248,\n",
       "        0.41648474,  0.15832298,  0.23848002, -0.33257234,  0.39362323,\n",
       "        0.05034027, -0.2331828 , -0.23231934,  0.06255879, -0.07806148,\n",
       "        0.02828901, -0.04715441,  0.07948208, -0.276475  ,  0.03359592,\n",
       "       -0.2559927 ,  0.03013906,  0.21794142,  0.11468504,  0.11428909,\n",
       "        0.36771855, -0.0625584 ,  0.01058254, -0.16605088,  0.35469666,\n",
       "       -0.12347206, -0.40475085, -0.06170281,  0.28450462,  0.11871348,\n",
       "       -0.12782238,  0.08177127, -0.11563817, -0.16030498, -0.17455222,\n",
       "        0.21591517,  0.17765968,  0.20367016, -0.3632901 , -0.22496799,\n",
       "        0.09964133,  0.15476403, -0.29521975,  0.16433132,  0.27310714,\n",
       "       -0.16952097,  0.30690384, -0.15141097, -0.30435082,  0.02765729,\n",
       "        0.07086928,  0.10989155, -0.20684293, -0.11287079,  0.02884405,\n",
       "        0.21212892,  0.05072133, -0.07736097,  0.05667717,  0.08601379,\n",
       "        0.1589613 ,  0.12263149, -0.14512129,  0.50341654,  0.07623534,\n",
       "       -0.04091236,  0.05559547, -0.01150094,  0.09711763,  0.1668603 ,\n",
       "        0.33629414,  0.10104602, -0.4168533 ,  0.03246946,  0.44306463,\n",
       "       -0.29079634,  0.27262473, -0.06434699, -0.03694965, -0.2800129 ,\n",
       "        0.75095344, -0.08610679, -0.19514684, -0.00699393,  0.00390751,\n",
       "       -0.12126327,  0.3137207 , -0.00436299, -0.27940813, -0.07392554,\n",
       "       -0.07026479,  0.05810061,  0.12609641, -0.02915883,  0.00252214,\n",
       "        0.266509  , -0.18494263, -0.10147757, -0.469712  , -0.40784934,\n",
       "        0.32843933,  0.25500855,  0.42211944, -0.00212787, -0.1268615 ,\n",
       "       -0.00282412,  0.25046098,  0.03319928,  0.2507712 , -0.08178556,\n",
       "        0.00920791, -0.05802318, -0.14071167, -0.2639194 , -0.25582188,\n",
       "       -0.15198904, -0.17482385, -0.14473201,  0.29176968,  0.1890655 ,\n",
       "        0.07501788,  0.18265973,  0.08960981,  0.15565771,  0.08400404,\n",
       "        0.2601255 , -0.35494688,  0.2854875 , -0.42566827,  0.42707154,\n",
       "       -0.08637695, -0.19751477,  0.18512192,  0.19741957,  0.01555531,\n",
       "        0.03925471,  0.04968897, -0.4417306 , -0.00308208,  0.576955  ,\n",
       "        0.01082224,  0.08386518, -0.39701957, -0.3813032 , -0.23279937,\n",
       "       -0.03044007, -0.10410006, -0.00149964, -0.09348395,  0.19340746,\n",
       "       -0.12637222, -0.00862448, -0.06695131,  0.11615704, -0.04604762,\n",
       "       -0.09836151,  0.00389307, -0.32313523,  0.23664764,  0.02212719,\n",
       "       -0.36891043,  0.03563357, -0.06971589,  0.12007606, -0.11685108,\n",
       "        0.01469222, -0.07903743, -0.15570281,  0.14739516,  0.5510649 ,\n",
       "       -0.11291698, -0.23762473,  0.13589141, -0.13391702, -0.3193713 ,\n",
       "        0.09321655,  0.14014517, -0.4889485 , -0.1893973 ,  0.01816304,\n",
       "        0.06672279,  0.19761436,  0.24097832, -0.01756148,  0.07747461,\n",
       "        0.11509558, -0.11766175,  0.29419622, -0.06073732, -0.14602797,\n",
       "        0.3138209 , -0.23181973, -0.35037723, -0.2735462 ,  0.12649456,\n",
       "       -0.05338952,  0.2438343 , -0.10331315, -0.24070805, -0.15836914,\n",
       "        0.11679974,  0.3702151 , -0.13024521, -0.32733127, -0.32140523,\n",
       "       -0.00299221,  0.5084111 , -0.02326082, -0.14783932,  0.0045616 ,\n",
       "       -0.19847058, -0.23657826,  0.08338805,  0.03296319, -0.17914398,\n",
       "       -0.08181679,  0.01622056, -0.43314597, -0.03942816, -0.0132485 ,\n",
       "        0.05757315,  0.05698611, -0.17883293, -0.01794644, -0.42532694,\n",
       "        0.32062218, -0.03772757, -0.2574258 ,  0.05106492,  0.29500297,\n",
       "        0.23101754, -0.2436101 ,  0.1887132 , -0.12696315, -0.0435981 ,\n",
       "        0.05413413,  0.16559483,  0.05089679, -0.16015725,  0.20699511,\n",
       "       -0.02890609, -0.5144523 ,  0.00665647,  0.2662115 ,  0.03994192,\n",
       "       -0.1770823 ,  0.02505776,  0.27988148, -0.11109245,  0.12342436,\n",
       "       -0.54029685, -0.23525932,  0.4408347 , -0.27035847,  0.05327357,\n",
       "       -0.23458375,  0.1374059 , -0.19237342,  0.12910104, -0.00665004],\n",
       "      dtype=float32)"
      ]
     },
     "execution_count": 12,
     "metadata": {},
     "output_type": "execute_result"
    }
   ],
   "source": [
    "w2v_model['great']"
   ]
  },
  {
   "cell_type": "code",
   "execution_count": 13,
   "metadata": {},
   "outputs": [
    {
     "name": "stderr",
     "output_type": "stream",
     "text": [
      "<ipython-input-13-c94bacd36426>:6: DeprecationWarning: Call to deprecated `__getitem__` (Method will be removed in 4.0.0, use self.wv.__getitem__() instead).\n",
      "  lst.append(w2v_model[j])\n"
     ]
    }
   ],
   "source": [
    "X = []\n",
    "for i in review_df['combined']:\n",
    "    lst = []\n",
    "    n = len(i)\n",
    "    for j in i:\n",
    "        lst.append(w2v_model[j])\n",
    "    lst = np.array(lst)\n",
    "    X.append([np.sum(lst[:,i])/n for i in range(100)])"
   ]
  },
  {
   "cell_type": "code",
   "execution_count": 14,
   "metadata": {},
   "outputs": [],
   "source": [
    "X = np.array(X)"
   ]
  },
  {
   "cell_type": "code",
   "execution_count": 15,
   "metadata": {},
   "outputs": [
    {
     "data": {
      "text/plain": [
       " 1    1082\n",
       "-1     940\n",
       " 0     733\n",
       "Name: star, dtype: int64"
      ]
     },
     "execution_count": 15,
     "metadata": {},
     "output_type": "execute_result"
    }
   ],
   "source": [
    "review_df['star'].value_counts()"
   ]
  },
  {
   "cell_type": "code",
   "execution_count": 16,
   "metadata": {},
   "outputs": [
    {
     "data": {
      "text/plain": [
       "(2755, 3)"
      ]
     },
     "execution_count": 16,
     "metadata": {},
     "output_type": "execute_result"
    }
   ],
   "source": [
    "review_df.shape"
   ]
  },
  {
   "cell_type": "code",
   "execution_count": 17,
   "metadata": {},
   "outputs": [
    {
     "data": {
      "text/plain": [
       "(2755, 100)"
      ]
     },
     "execution_count": 17,
     "metadata": {},
     "output_type": "execute_result"
    }
   ],
   "source": [
    "np.shape(X)"
   ]
  },
  {
   "cell_type": "code",
   "execution_count": 18,
   "metadata": {},
   "outputs": [],
   "source": [
    "y = review_df['star'].ravel()\n",
    "\n",
    "X_train,X_valid,y_train,y_valid = train_test_split(X,y,test_size=0.3,random_state=17)"
   ]
  },
  {
   "cell_type": "code",
   "execution_count": 19,
   "metadata": {},
   "outputs": [],
   "source": [
    "from sklearn.model_selection import KFold\n",
    "from sklearn.metrics import f1_score\n",
    "import numpy as np\n",
    "\n",
    "def cross_val(model,X,y):\n",
    "       \n",
    "    f1_scr = []\n",
    "    \n",
    "    rfk = KFold(n_splits=3, random_state=None,shuffle = True)\n",
    "    \n",
    "    for train, test in rfk.split(X): ## you must do this on full dataset \n",
    "        print\n",
    "        try:\n",
    "            X_train = X.iloc[train]\n",
    "            X_test = X.iloc[test]\n",
    "            \n",
    "        except:\n",
    "            X_train = X[train,:]\n",
    "            X_test = X[test,:]\n",
    "                        \n",
    "        y_train = y[train]\n",
    "        y_test = y[test]\n",
    "        \n",
    "        model.fit(X_train,y_train)\n",
    "        y_pred = model.predict(X_test)\n",
    "        f1 = f1_score(y_test, y_pred,average = 'micro')\n",
    "        f1_scr.append(f1)\n",
    "    print('F1 Score',np.mean(f1_scr))\n",
    "                    \n",
    "    return model"
   ]
  },
  {
   "cell_type": "code",
   "execution_count": 20,
   "metadata": {},
   "outputs": [],
   "source": [
    "from sklearn import metrics\n",
    "\n",
    "def pred(model,X,y):\n",
    "    y_pred = model.predict(X)\n",
    "    f1 = f1_score(y, y_pred,average = 'micro')\n",
    "    print(f1)\n",
    "    print(metrics.confusion_matrix(y, y_pred))\n",
    "    print(metrics.classification_report(y, y_pred))"
   ]
  },
  {
   "cell_type": "code",
   "execution_count": 21,
   "metadata": {},
   "outputs": [
    {
     "name": "stdout",
     "output_type": "stream",
     "text": [
      "F1 Score 0.544066704456815\n",
      "0.5477629987908101\n",
      "[[210   6  65]\n",
      " [ 93   9 105]\n",
      " [ 95  10 234]]\n",
      "              precision    recall  f1-score   support\n",
      "\n",
      "          -1       0.53      0.75      0.62       281\n",
      "           0       0.36      0.04      0.08       207\n",
      "           1       0.58      0.69      0.63       339\n",
      "\n",
      "    accuracy                           0.55       827\n",
      "   macro avg       0.49      0.49      0.44       827\n",
      "weighted avg       0.51      0.55      0.49       827\n",
      "\n"
     ]
    }
   ],
   "source": [
    "from sklearn.linear_model import LogisticRegression\n",
    "\n",
    "Log_Reg = LogisticRegression(random_state=0,solver='lbfgs',max_iter = 200)\n",
    "\n",
    "Log_Reg = cross_val(Log_Reg,X_train,y_train)\n",
    "pred(Log_Reg,X_valid,y_valid)"
   ]
  },
  {
   "cell_type": "code",
   "execution_count": 22,
   "metadata": {},
   "outputs": [
    {
     "name": "stdout",
     "output_type": "stream",
     "text": [
      "F1 Score 0.5705529150900585\n",
      "0.585247883917775\n",
      "[[189  50  42]\n",
      " [ 59  93  55]\n",
      " [ 63  74 202]]\n",
      "              precision    recall  f1-score   support\n",
      "\n",
      "          -1       0.61      0.67      0.64       281\n",
      "           0       0.43      0.45      0.44       207\n",
      "           1       0.68      0.60      0.63       339\n",
      "\n",
      "    accuracy                           0.59       827\n",
      "   macro avg       0.57      0.57      0.57       827\n",
      "weighted avg       0.59      0.59      0.59       827\n",
      "\n"
     ]
    }
   ],
   "source": [
    "from sklearn.tree import DecisionTreeClassifier\n",
    "\n",
    "DCT_Classifier = DecisionTreeClassifier(criterion='entropy', random_state=1)\n",
    "\n",
    "DCT_Classifier = cross_val(DCT_Classifier,X_train,y_train)\n",
    "pred(DCT_Classifier,X_valid,y_valid)"
   ]
  },
  {
   "cell_type": "code",
   "execution_count": 23,
   "metadata": {},
   "outputs": [
    {
     "name": "stdout",
     "output_type": "stream",
     "text": [
      "F1 Score 0.6296767327348278\n",
      "0.6505441354292624\n",
      "[[190  54  37]\n",
      " [ 46  96  65]\n",
      " [ 37  50 252]]\n",
      "              precision    recall  f1-score   support\n",
      "\n",
      "          -1       0.70      0.68      0.69       281\n",
      "           0       0.48      0.46      0.47       207\n",
      "           1       0.71      0.74      0.73       339\n",
      "\n",
      "    accuracy                           0.65       827\n",
      "   macro avg       0.63      0.63      0.63       827\n",
      "weighted avg       0.65      0.65      0.65       827\n",
      "\n"
     ]
    }
   ],
   "source": [
    "from sklearn.ensemble import RandomForestClassifier\n",
    "\n",
    "RF_Classifier = cross_val(RandomForestClassifier(),X_train,y_train)\n",
    "pred(RF_Classifier,X_valid,y_valid)"
   ]
  },
  {
   "cell_type": "code",
   "execution_count": 24,
   "metadata": {},
   "outputs": [
    {
     "name": "stdout",
     "output_type": "stream",
     "text": [
      "F1 Score 0.6307062720341597\n",
      "0.6469165659008465\n",
      "[[191  54  36]\n",
      " [ 50  91  66]\n",
      " [ 39  47 253]]\n",
      "              precision    recall  f1-score   support\n",
      "\n",
      "          -1       0.68      0.68      0.68       281\n",
      "           0       0.47      0.44      0.46       207\n",
      "           1       0.71      0.75      0.73       339\n",
      "\n",
      "    accuracy                           0.65       827\n",
      "   macro avg       0.62      0.62      0.62       827\n",
      "weighted avg       0.64      0.65      0.64       827\n",
      "\n"
     ]
    }
   ],
   "source": [
    "from xgboost import XGBClassifier\n",
    "\n",
    "XGB_Classifier = cross_val(XGBClassifier(),X_train,y_train)\n",
    "pred(XGB_Classifier,X_valid,y_valid)"
   ]
  },
  {
   "cell_type": "code",
   "execution_count": 25,
   "metadata": {},
   "outputs": [
    {
     "name": "stdout",
     "output_type": "stream",
     "text": [
      "F1 Score 0.545120468210249\n",
      "0.562273276904474\n",
      "[[195   0  86]\n",
      " [ 76   0 131]\n",
      " [ 69   0 270]]\n",
      "              precision    recall  f1-score   support\n",
      "\n",
      "          -1       0.57      0.69      0.63       281\n",
      "           0       0.00      0.00      0.00       207\n",
      "           1       0.55      0.80      0.65       339\n",
      "\n",
      "    accuracy                           0.56       827\n",
      "   macro avg       0.38      0.50      0.43       827\n",
      "weighted avg       0.42      0.56      0.48       827\n",
      "\n"
     ]
    },
    {
     "name": "stderr",
     "output_type": "stream",
     "text": [
      "C:\\Users\\sanja\\anaconda3\\lib\\site-packages\\sklearn\\metrics\\_classification.py:1221: UndefinedMetricWarning: Precision and F-score are ill-defined and being set to 0.0 in labels with no predicted samples. Use `zero_division` parameter to control this behavior.\n",
      "  _warn_prf(average, modifier, msg_start, len(result))\n"
     ]
    }
   ],
   "source": [
    "from sklearn.svm import SVC\n",
    "\n",
    "SVM_Classifier = cross_val(SVC(),X_train,y_train)\n",
    "pred(SVM_Classifier,X_valid,y_valid)"
   ]
  },
  {
   "cell_type": "code",
   "execution_count": 26,
   "metadata": {},
   "outputs": [
    {
     "name": "stdout",
     "output_type": "stream",
     "text": [
      "2 :  0.41832675024432836\n",
      "3 :  0.3452251699647436\n",
      "4 :  0.30757917330519285\n",
      "5 :  0.3072953497507917\n",
      "6 :  0.29733309209454184\n",
      "7 :  0.28241712541358543\n",
      "8 :  0.27958392902963164\n",
      "9 :  0.27026302351359327\n",
      "10 :  0.27105285889199915\n",
      "11 :  0.26860235068013755\n",
      "12 :  0.2684643881299456\n",
      "13 :  0.27079188453265923\n",
      "14 :  0.26438267826533335\n",
      "15 :  0.26267779883902137\n",
      "16 :  0.26357354084698387\n",
      "17 :  0.2576913177083489\n",
      "18 :  0.25982921763312045\n",
      "19 :  0.24998778573197464\n"
     ]
    },
    {
     "data": {
      "image/png": "[encoded data removed]",
      "text/plain": [
       "<Figure size 432x288 with 1 Axes>"
      ]
     },
     "metadata": {
      "needs_background": "light"
     },
     "output_type": "display_data"
    }
   ],
   "source": [
    "from sklearn.cluster import KMeans\n",
    "from sklearn.metrics import silhouette_score\n",
    "\n",
    "inertia_lst = []\n",
    "for i in range(2,20):\n",
    "    kmeans = KMeans(n_clusters=i, random_state=0).fit(X)\n",
    "    inertia_lst.append(kmeans.inertia_)\n",
    "    print(i,': ',silhouette_score(X, kmeans.labels_, metric='euclidean'))\n",
    "    \n",
    "plt.plot(range(2,20),inertia_lst)\n",
    "plt.xlabel(\"Value of K\") \n",
    "plt.ylabel(\"Sqaured Error (Cost)\") \n",
    "plt.show()"
   ]
  },
  {
   "cell_type": "code",
   "execution_count": null,
   "metadata": {},
   "outputs": [],
   "source": []
  },
  {
   "cell_type": "code",
   "execution_count": null,
   "metadata": {},
   "outputs": [],
   "source": []
  }
 ],
 "metadata": {
  "kernelspec": {
   "display_name": "Python 3",
   "language": "python",
   "name": "python3"
  },
  "language_info": {
   "codemirror_mode": {
    "name": "ipython",
    "version": 3
   },
   "file_extension": ".py",
   "mimetype": "text/x-python",
   "name": "python",
   "nbconvert_exporter": "python",
   "pygments_lexer": "ipython3",
   "version": "3.8.3"
  }
 },
 "nbformat": 4,
 "nbformat_minor": 4
}
